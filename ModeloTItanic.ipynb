{
  "nbformat": 4,
  "nbformat_minor": 0,
  "metadata": {
    "colab": {
      "name": "ModeloTItanic.ipynb",
      "provenance": [],
      "collapsed_sections": [],
      "authorship_tag": "ABX9TyMpKpC2mIK3O0s76z6MfSCl",
      "include_colab_link": true
    },
    "kernelspec": {
      "name": "python3",
      "display_name": "Python 3"
    }
  },
  "cells": [
    {
      "cell_type": "markdown",
      "metadata": {
        "id": "view-in-github",
        "colab_type": "text"
      },
      "source": [
        "<a href=\"https://colab.research.google.com/github/edwinsn/titanic-model/blob/main/ModeloTItanic.ipynb\" target=\"_parent\"><img src=\"https://colab.research.google.com/assets/colab-badge.svg\" alt=\"Open In Colab\"/></a>"
      ]
    },
    {
      "cell_type": "markdown",
      "metadata": {
        "id": "4GTYCyRAzyoO"
      },
      "source": [
        "* **Implementar un modelo de red neuronal usando Keras para predecir los sobrevivientes del titanic. El modelo debe tener dos capas ocultas densas con 16 neuronas cada una y funcion de activacion relu. Como optimizador usar descenso del gradiente estocástico.\n",
        "Como función de pérdida usar binary_crossentropy y como métrica usar accuracy.** "
      ]
    },
    {
      "cell_type": "code",
      "metadata": {
        "colab": {
          "base_uri": "https://localhost:8080/"
        },
        "id": "MiU7jANs7g3L",
        "outputId": "93ce3691-f593-4e9f-9469-afdfa7899b5c"
      },
      "source": [
        "import math\n",
        "import numpy as np\n",
        "import pandas as pd\n",
        "import statistics as st\n",
        "from tensorflow import keras\n",
        "\n",
        "df = pd.read_csv(\"titanic.csv\")\n",
        "\n",
        "##Datos faltantes\n",
        "\n",
        "print(df.isna().any())\n",
        "values = {'Age':df['Age'].mean(), 'Embarked':st.mode(df['Embarked'])}\n",
        "df = df.fillna(value=values)\n",
        "print(df.isna().any())\n",
        "\n"
      ],
      "execution_count": 13,
      "outputs": [
        {
          "output_type": "stream",
          "text": [
            "PassengerId    False\n",
            "Survived       False\n",
            "Pclass         False\n",
            "Name           False\n",
            "Sex            False\n",
            "Age             True\n",
            "SibSp          False\n",
            "Parch          False\n",
            "Ticket         False\n",
            "Fare           False\n",
            "Cabin           True\n",
            "Embarked        True\n",
            "dtype: bool\n",
            "PassengerId    False\n",
            "Survived       False\n",
            "Pclass         False\n",
            "Name           False\n",
            "Sex            False\n",
            "Age            False\n",
            "SibSp          False\n",
            "Parch          False\n",
            "Ticket         False\n",
            "Fare           False\n",
            "Cabin           True\n",
            "Embarked       False\n",
            "dtype: bool\n"
          ],
          "name": "stdout"
        }
      ]
    },
    {
      "cell_type": "code",
      "metadata": {
        "id": "XDOEhjujqKdN",
        "colab": {
          "base_uri": "https://localhost:8080/",
          "height": 276
        },
        "outputId": "decc0b0d-0c92-4486-acca-ebe57f288ac1"
      },
      "source": [
        "##Transformación de los datos\n",
        "\n",
        "def sexToInt(x):\n",
        "  if x==\"male\": return 1\n",
        "  return 0\n",
        "\n",
        "df['Sex']= list(map(sexToInt, df[\"Sex\"]))\n",
        "\n",
        "print( \"\\nUnique(Embarked): {}\".format( np.unique(df['Embarked']) )  )\n",
        "\n",
        "def embarkedToInt(x):\n",
        "  if x==\"C\": return 0\n",
        "  if x==\"Q\": return 1\n",
        "  return 2\n",
        "\n",
        "df['Embarked'] = list(map(embarkedToInt, df[\"Embarked\"]))\n",
        "\n",
        "#Cabine no se tuvo en cuenta pues:\n",
        "print(\"\\nDatos faltantes en Cabin: {}\".format(len(df[df[\"Cabin\"].isna()])))\n",
        "\n",
        "df.head()"
      ],
      "execution_count": 14,
      "outputs": [
        {
          "output_type": "stream",
          "text": [
            "\n",
            "Unique(Embarked): ['C' 'Q' 'S']\n",
            "\n",
            "Datos faltantes en Cabin: 687\n"
          ],
          "name": "stdout"
        },
        {
          "output_type": "execute_result",
          "data": {
            "text/html": [
              "<div>\n",
              "<style scoped>\n",
              "    .dataframe tbody tr th:only-of-type {\n",
              "        vertical-align: middle;\n",
              "    }\n",
              "\n",
              "    .dataframe tbody tr th {\n",
              "        vertical-align: top;\n",
              "    }\n",
              "\n",
              "    .dataframe thead th {\n",
              "        text-align: right;\n",
              "    }\n",
              "</style>\n",
              "<table border=\"1\" class=\"dataframe\">\n",
              "  <thead>\n",
              "    <tr style=\"text-align: right;\">\n",
              "      <th></th>\n",
              "      <th>PassengerId</th>\n",
              "      <th>Survived</th>\n",
              "      <th>Pclass</th>\n",
              "      <th>Name</th>\n",
              "      <th>Sex</th>\n",
              "      <th>Age</th>\n",
              "      <th>SibSp</th>\n",
              "      <th>Parch</th>\n",
              "      <th>Ticket</th>\n",
              "      <th>Fare</th>\n",
              "      <th>Cabin</th>\n",
              "      <th>Embarked</th>\n",
              "    </tr>\n",
              "  </thead>\n",
              "  <tbody>\n",
              "    <tr>\n",
              "      <th>0</th>\n",
              "      <td>1</td>\n",
              "      <td>0</td>\n",
              "      <td>3</td>\n",
              "      <td>Braund, Mr. Owen Harris</td>\n",
              "      <td>1</td>\n",
              "      <td>22.0</td>\n",
              "      <td>1</td>\n",
              "      <td>0</td>\n",
              "      <td>A/5 21171</td>\n",
              "      <td>7.2500</td>\n",
              "      <td>NaN</td>\n",
              "      <td>2</td>\n",
              "    </tr>\n",
              "    <tr>\n",
              "      <th>1</th>\n",
              "      <td>2</td>\n",
              "      <td>1</td>\n",
              "      <td>1</td>\n",
              "      <td>Cumings, Mrs. John Bradley (Florence Briggs Th...</td>\n",
              "      <td>0</td>\n",
              "      <td>38.0</td>\n",
              "      <td>1</td>\n",
              "      <td>0</td>\n",
              "      <td>PC 17599</td>\n",
              "      <td>71.2833</td>\n",
              "      <td>C85</td>\n",
              "      <td>0</td>\n",
              "    </tr>\n",
              "    <tr>\n",
              "      <th>2</th>\n",
              "      <td>3</td>\n",
              "      <td>1</td>\n",
              "      <td>3</td>\n",
              "      <td>Heikkinen, Miss. Laina</td>\n",
              "      <td>0</td>\n",
              "      <td>26.0</td>\n",
              "      <td>0</td>\n",
              "      <td>0</td>\n",
              "      <td>STON/O2. 3101282</td>\n",
              "      <td>7.9250</td>\n",
              "      <td>NaN</td>\n",
              "      <td>2</td>\n",
              "    </tr>\n",
              "    <tr>\n",
              "      <th>3</th>\n",
              "      <td>4</td>\n",
              "      <td>1</td>\n",
              "      <td>1</td>\n",
              "      <td>Futrelle, Mrs. Jacques Heath (Lily May Peel)</td>\n",
              "      <td>0</td>\n",
              "      <td>35.0</td>\n",
              "      <td>1</td>\n",
              "      <td>0</td>\n",
              "      <td>113803</td>\n",
              "      <td>53.1000</td>\n",
              "      <td>C123</td>\n",
              "      <td>2</td>\n",
              "    </tr>\n",
              "    <tr>\n",
              "      <th>4</th>\n",
              "      <td>5</td>\n",
              "      <td>0</td>\n",
              "      <td>3</td>\n",
              "      <td>Allen, Mr. William Henry</td>\n",
              "      <td>1</td>\n",
              "      <td>35.0</td>\n",
              "      <td>0</td>\n",
              "      <td>0</td>\n",
              "      <td>373450</td>\n",
              "      <td>8.0500</td>\n",
              "      <td>NaN</td>\n",
              "      <td>2</td>\n",
              "    </tr>\n",
              "  </tbody>\n",
              "</table>\n",
              "</div>"
            ],
            "text/plain": [
              "   PassengerId  Survived  Pclass  ...     Fare  Cabin  Embarked\n",
              "0            1         0       3  ...   7.2500    NaN         2\n",
              "1            2         1       1  ...  71.2833    C85         0\n",
              "2            3         1       3  ...   7.9250    NaN         2\n",
              "3            4         1       1  ...  53.1000   C123         2\n",
              "4            5         0       3  ...   8.0500    NaN         2\n",
              "\n",
              "[5 rows x 12 columns]"
            ]
          },
          "metadata": {},
          "execution_count": 14
        }
      ]
    },
    {
      "cell_type": "code",
      "metadata": {
        "id": "IV9xuq7fGz3E",
        "colab": {
          "base_uri": "https://localhost:8080/"
        },
        "outputId": "6d3dccae-d4e2-46df-e131-b462aba773e4"
      },
      "source": [
        "\n",
        "\n",
        "keras.backend.clear_session()\n",
        "\n",
        "y_train = df.loc[0:math.floor(0.8*len(df)),\"Survived\"]\n",
        "y_val = df.loc[math.floor(0.8*len(df)):math.floor(0.9*len(df)),\"Survived\"]\n",
        "y_test = df.loc[math.floor(0.9*len(df)):len(df),\"Survived\"]\n",
        "\n",
        "x_train = df.loc[ 0:math.floor(0.8*len(df)),[\"Pclass\",\"Sex\", \"Age\", \"SibSp\", \"Parch\", \"Fare\", \"Embarked\"] ]\n",
        "x_val = df.loc[math.floor(0.8*len(df)):math.floor(0.9*len(df)),[\"Pclass\", \"Sex\", \"Age\", \"SibSp\", \"Parch\", \"Fare\", \"Embarked\"]]\n",
        "x_test = df.loc[math.floor(0.9*len(df)):len(df),[\"Pclass\", \"Sex\", \"Age\", \"SibSp\", \"Parch\", \"Fare\", \"Embarked\"]]\n",
        "\n",
        "\n",
        "model = keras.models.Sequential();\n",
        "\n",
        "model.add(keras.layers.Dense(16, activation=\"relu\"));\n",
        "model.add(keras.layers.Dense(16, activation=\"relu\"));\n",
        "\n",
        "model.add(keras.layers.Dense(1, activation=\"sigmoid\"));\n",
        "\n",
        "model.compile(loss='binary_crossentropy',\n",
        "              optimizer='sgd', \n",
        "              metrics=[\"accuracy\"])\n",
        "\n",
        "\n",
        "history =  model.fit(x_train, y_train, epochs=10, validation_data=(x_val, y_val))\n"
      ],
      "execution_count": 18,
      "outputs": [
        {
          "output_type": "stream",
          "text": [
            "Epoch 1/10\n",
            "23/23 [==============================] - 0s 7ms/step - loss: 1.5190 - accuracy: 0.6017 - val_loss: 0.5824 - val_accuracy: 0.6889\n",
            "Epoch 2/10\n",
            "23/23 [==============================] - 0s 2ms/step - loss: 0.7591 - accuracy: 0.6410 - val_loss: 0.5403 - val_accuracy: 0.6667\n",
            "Epoch 3/10\n",
            "23/23 [==============================] - 0s 2ms/step - loss: 0.7050 - accuracy: 0.6073 - val_loss: 0.5714 - val_accuracy: 0.6778\n",
            "Epoch 4/10\n",
            "23/23 [==============================] - 0s 2ms/step - loss: 0.6674 - accuracy: 0.6774 - val_loss: 1.1893 - val_accuracy: 0.6556\n",
            "Epoch 5/10\n",
            "23/23 [==============================] - 0s 2ms/step - loss: 0.6545 - accuracy: 0.6452 - val_loss: 0.5514 - val_accuracy: 0.7222\n",
            "Epoch 6/10\n",
            "23/23 [==============================] - 0s 2ms/step - loss: 0.6394 - accuracy: 0.6381 - val_loss: 0.5379 - val_accuracy: 0.7333\n",
            "Epoch 7/10\n",
            "23/23 [==============================] - 0s 2ms/step - loss: 0.6314 - accuracy: 0.6564 - val_loss: 0.5737 - val_accuracy: 0.7111\n",
            "Epoch 8/10\n",
            "23/23 [==============================] - 0s 2ms/step - loss: 0.6162 - accuracy: 0.6578 - val_loss: 0.5494 - val_accuracy: 0.7111\n",
            "Epoch 9/10\n",
            "23/23 [==============================] - 0s 2ms/step - loss: 0.6291 - accuracy: 0.6676 - val_loss: 0.6120 - val_accuracy: 0.6667\n",
            "Epoch 10/10\n",
            "23/23 [==============================] - 0s 2ms/step - loss: 0.6207 - accuracy: 0.6550 - val_loss: 0.5518 - val_accuracy: 0.7111\n"
          ],
          "name": "stdout"
        }
      ]
    },
    {
      "cell_type": "code",
      "metadata": {
        "id": "VRysgK2dhWYB",
        "colab": {
          "base_uri": "https://localhost:8080/"
        },
        "outputId": "a42cecf5-9520-417d-912a-349efb76072b"
      },
      "source": [
        "supervivencia = [\"No sobrevivió\", \"Sobrevivió\"]\n",
        "n=12\n",
        "X_new = x_test[:n]\n",
        "y_pred = model.predict(X_new)\n",
        "\n",
        "for i in range(n):\n",
        "   persona = df.loc[len(x_train)+len(x_val)+i,:]\n",
        "   print(\"La probbilidad de sobrevivir de {} fue de: {} y {}\".format(persona[\"Name\"], str(y_pred[i][0]), supervivencia[persona[\"Survived\"]]))\n"
      ],
      "execution_count": 16,
      "outputs": [
        {
          "output_type": "stream",
          "text": [
            "La probbilidad de sobrevivir de Thomas, Master. Assad Alexander fue de: 0.43867812 y Sobrevivió\n",
            "La probbilidad de sobrevivir de Hedman, Mr. Oskar Arvid fue de: 0.7165246 y Sobrevivió\n",
            "La probbilidad de sobrevivir de Johansson, Mr. Karl Johan fue de: 0.5336753 y No sobrevivió\n",
            "La probbilidad de sobrevivir de Andrews, Mr. Thomas Jr fue de: 0.2393704 y No sobrevivió\n",
            "La probbilidad de sobrevivir de Pettersson, Miss. Ellen Natalia fue de: 0.21701366 y No sobrevivió\n",
            "La probbilidad de sobrevivir de Meyer, Mr. August fue de: 0.13243553 y No sobrevivió\n",
            "La probbilidad de sobrevivir de Chambers, Mrs. Norman Campbell (Bertha Griggs) fue de: 0.34854355 y Sobrevivió\n",
            "La probbilidad de sobrevivir de Alexander, Mr. William fue de: 0.22816095 y No sobrevivió\n",
            "La probbilidad de sobrevivir de Lester, Mr. James fue de: 0.5702573 y No sobrevivió\n",
            "La probbilidad de sobrevivir de Slemen, Mr. Richard James fue de: 0.2606895 y No sobrevivió\n",
            "La probbilidad de sobrevivir de Andersson, Miss. Ebba Iris Alfrida fue de: 0.3154869 y No sobrevivió\n",
            "La probbilidad de sobrevivir de Tomlin, Mr. Ernest Portage fue de: 0.22846597 y No sobrevivió\n"
          ],
          "name": "stdout"
        }
      ]
    }
  ]
}